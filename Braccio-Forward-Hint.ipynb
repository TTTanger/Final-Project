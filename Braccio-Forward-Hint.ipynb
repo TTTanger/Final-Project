{
 "cells": [
  {
   "cell_type": "markdown",
   "id": "8f53b58e",
   "metadata": {},
   "source": [
    "# Forward kinematics for the modified Tinkerkit Braccio"
   ]
  },
  {
   "cell_type": "markdown",
   "id": "e5d0db59",
   "metadata": {},
   "source": [
    "## Define the basic DH transformation matrix"
   ]
  },
  {
   "cell_type": "code",
   "execution_count": 30,
   "id": "6cd4eef3",
   "metadata": {},
   "outputs": [
    {
     "data": {
      "text/latex": [
       "$\\displaystyle \\left[\\begin{matrix}\\cos{\\left(\\delta \\right)} & - \\sin{\\left(\\delta \\right)} \\cos{\\left(\\alpha \\right)} & \\sin{\\left(\\alpha \\right)} \\sin{\\left(\\delta \\right)} & a \\cos{\\left(\\delta \\right)}\\\\\\sin{\\left(\\delta \\right)} & \\cos{\\left(\\alpha \\right)} \\cos{\\left(\\delta \\right)} & - \\sin{\\left(\\alpha \\right)} \\cos{\\left(\\delta \\right)} & a \\sin{\\left(\\delta \\right)}\\\\0 & \\sin{\\left(\\alpha \\right)} & \\cos{\\left(\\alpha \\right)} & d\\\\0 & 0 & 0 & 1\\end{matrix}\\right]$"
      ],
      "text/plain": [
       "Matrix([\n",
       "[cos(delta), -sin(delta)*cos(alpha),  sin(alpha)*sin(delta), a*cos(delta)],\n",
       "[sin(delta),  cos(alpha)*cos(delta), -sin(alpha)*cos(delta), a*sin(delta)],\n",
       "[         0,             sin(alpha),             cos(alpha),            d],\n",
       "[         0,                      0,                      0,            1]])"
      ]
     },
     "execution_count": 30,
     "metadata": {},
     "output_type": "execute_result"
    }
   ],
   "source": [
    "from sympy import *\n",
    "# define the variables we are using within \n",
    "var('d,a,alpha,delta,Rz,Rx,Tz,Tx')\n",
    "\n",
    "Rx=Matrix([[1,0,0,0],\n",
    "          [0,cos(alpha),-sin(alpha),0],\n",
    "          [0,sin(alpha),cos(alpha),0],\n",
    "          [0,0,0,1]])\n",
    "Rz=Matrix([[cos(delta),-sin(delta),0,0],\n",
    "          [sin(delta),cos(delta),0,0],\n",
    "          [0,0,1,0],\n",
    "          [0,0,0,1]])\n",
    "Tz=Matrix([[1,0,0,0],\n",
    "          [0,1,0,0],\n",
    "          [0,0,1,d],\n",
    "          [0,0,0,1]])\n",
    "Tx=Matrix([[1,0,0,a],\n",
    "          [0,1,0,0],\n",
    "          [0,0,1,0],\n",
    "          [0,0,0,1]])\n",
    "TM=Tz.multiply(Rz).multiply(Tx).multiply(Rx)\n",
    "TM"
   ]
  },
  {
   "cell_type": "markdown",
   "id": "a15700a5",
   "metadata": {},
   "source": [
    "## Definition of the transformation function for each link"
   ]
  },
  {
   "cell_type": "code",
   "execution_count": 31,
   "id": "fcd84ba4",
   "metadata": {
    "scrolled": true
   },
   "outputs": [
    {
     "data": {
      "text/latex": [
       "$\\displaystyle \\left[\\begin{matrix}200.0\\\\0\\\\40.0\\\\1.0\\end{matrix}\\right]$"
      ],
      "text/plain": [
       "Matrix([\n",
       "[200.0],\n",
       "[    0],\n",
       "[ 40.0],\n",
       "[  1.0]])"
      ]
     },
     "execution_count": 31,
     "metadata": {},
     "output_type": "execute_result"
    }
   ],
   "source": [
    "# function for converting degrees to radiant\n",
    "def d2r(deg):\n",
    "    return deg/180*pi\n",
    "\n",
    "\n",
    "def Tv1n0(delta1):\n",
    "    var('delta1,d1,alpha1,a1')\n",
    "    #DH-Parameter\n",
    "    d1=70\n",
    "    #convert angle from degree to rad and compensate the offset from the home position\n",
    "    delta1=d2r(delta1) + pi - 0\n",
    "    a1=0    \n",
    "    alpha1=pi/2\n",
    "    return TM.subs({delta:delta1,d:d1,alpha:alpha1,a:a1})\n",
    "\n",
    "def Tv2n1(delta2):\n",
    "    var('delta2,d2,alpha2,a2')\n",
    "    #DH-Parameter\n",
    "    d2=0\n",
    "    #convert angle from degree to rad and compensate the offset from the home position\n",
    "    delta2=d2r(delta2)\n",
    "    a2=120\n",
    "    alpha2=0\n",
    "    return TM.subs({delta:delta2,d:d2,alpha:alpha2,a:a2})\n",
    "\n",
    "def Tv3n2(delta3):\n",
    "    var('delta3,d3,alpha3,a3')\n",
    "    #DH-Parameter\n",
    "    d3=0\n",
    "    #convert angle from degree to rad and compensate the offset from the home position\n",
    "    delta3=d2r(delta3) - pi/2\n",
    "    a3=120    \n",
    "    alpha3=0\n",
    "    return TM.subs({delta:delta3,d:d3,alpha:alpha3,a:a3})\n",
    "\n",
    "def Tv4n3(delta4):\n",
    "    var('delta4,d4,alpha4,a4')\n",
    "    #DH-Parameter\n",
    "    d4=0\n",
    "    #convert angle from degree to rad and compensate the offset from the home position\n",
    "    delta4=d2r(delta4)-pi/2\n",
    "    a4=80    \n",
    "    alpha4=-pi/2\n",
    "    return TM.subs({delta:delta4,d:d4,alpha:alpha4,a:a4})\n",
    "\n",
    "def Tv5n4(delta5):\n",
    "    var('delta5,d5,alpha5,a5')\n",
    "    #DH-Parameter\n",
    "    d5=150\n",
    "    #convert angle from degree to rad and compensate the offset from the home position\n",
    "    delta5=d2r(delta5)-pi/2\n",
    "    a5=0    \n",
    "    alpha5=0\n",
    "    return TM.subs({delta:delta5,d:d5,alpha:alpha5,a:a5})\n",
    "\n",
    "#################################################\n",
    "# add here the other transformation functions....\n",
    "#################################################\n",
    "\n",
    "\n",
    "# Test:\n",
    "# define a point in the grippers CS (CS 5)\n",
    "P5=Matrix([0,0,0,1])\n",
    "# ... and calculate this points' coordinates in CS0\n",
    "P0=Tv1n0(0)*Tv2n1(90)*Tv3n2(180)*Tv4n3(90)*Tv5n4(0)*P5\n",
    "N(P0)\n"
   ]
  },
  {
   "cell_type": "markdown",
   "id": "a01bc8b4",
   "metadata": {},
   "source": [
    "## Function for calculating the TCP-position from the joint angles using the forward transformation"
   ]
  },
  {
   "cell_type": "code",
   "execution_count": 32,
   "id": "d9263d14",
   "metadata": {},
   "outputs": [
    {
     "data": {
      "text/latex": [
       "$\\displaystyle \\left[\\begin{matrix}200.0\\\\0\\\\40.0\\\\1.0\\end{matrix}\\right]$"
      ],
      "text/plain": [
       "Matrix([\n",
       "[200.0],\n",
       "[    0],\n",
       "[ 40.0],\n",
       "[  1.0]])"
      ]
     },
     "execution_count": 32,
     "metadata": {},
     "output_type": "execute_result"
    }
   ],
   "source": [
    "# works only, if other transformation functions are defined ;-)\n",
    "def BraccioForward(base, shoulder, elbow,wrist,twist):\n",
    "    return Tv1n0(base)*Tv2n1(shoulder)*Tv3n2(elbow)*Tv4n3(wrist)*Tv5n4(twist)\n",
    "\n",
    "# Test\n",
    "P0=BraccioForward(0,90,180,90,0)*Matrix([0,0,0,1])\n",
    "N(P0)"
   ]
  },
  {
   "cell_type": "markdown",
   "id": "456d3d1f",
   "metadata": {},
   "source": [
    "## Test the forward transformation with the Braccio"
   ]
  },
  {
   "cell_type": "code",
   "execution_count": 33,
   "id": "ab3d0168",
   "metadata": {},
   "outputs": [],
   "source": [
    "import serial\n",
    "import time\n",
    "s = serial.Serial('/dev/tty.EDIFIERMT6', 115200, timeout=5) #zu AHuse: COM3\n",
    "time.sleep(3)"
   ]
  },
  {
   "cell_type": "markdown",
   "id": "9210bddd",
   "metadata": {},
   "source": [
    "# Move to the Home position"
   ]
  },
  {
   "cell_type": "code",
   "execution_count": 34,
   "id": "351db725",
   "metadata": {},
   "outputs": [
    {
     "name": "stdout",
     "output_type": "stream",
     "text": [
      "\n"
     ]
    }
   ],
   "source": [
    "s.write(b'P90,90,0,90,0,100,30\\n')\n",
    "print(s.readline().decode())"
   ]
  },
  {
   "cell_type": "markdown",
   "id": "de2a7fd3",
   "metadata": {},
   "source": [
    "Define a function which calculates the gripper's tip position and actuates the robot with the given angles"
   ]
  },
  {
   "cell_type": "code",
   "execution_count": 35,
   "id": "7fb3c965",
   "metadata": {},
   "outputs": [],
   "source": [
    "def TestBraccioForward(base, shoulder, elbow,wrist,twist):\n",
    "    P0=BraccioForward(base, shoulder, elbow,wrist,twist)*Matrix([0,0,0,1])\n",
    "    print(pretty(N(P0)))\n",
    "    command=\"P\"+str(int(base))+\",\" \\\n",
    "                +str(int(shoulder))+\",\" \\\n",
    "                +str(int(elbow))+\",\"\\\n",
    "                +str(int(wrist))+\",\"\\\n",
    "                +str(int(twist))+\",130,50\\n\"\n",
    "    s.write(command.encode('ascii'))\n",
    "    return P0\n",
    "    \n"
   ]
  },
  {
   "cell_type": "markdown",
   "id": "46e1b9e7",
   "metadata": {},
   "source": [
    "Put in values for the joint angles, the robot should move to the calculated position. Check with the caliper, if the position is correct."
   ]
  },
  {
   "cell_type": "code",
   "execution_count": null,
   "id": "d10fe174",
   "metadata": {},
   "outputs": [
    {
     "name": "stdout",
     "output_type": "stream",
     "text": [
      "⎡-37.3155708362869 ⎤\n",
      "⎢                  ⎥\n",
      "⎢-0.491812547974233⎥\n",
      "⎢                  ⎥\n",
      "⎢-199.708147183483 ⎥\n",
      "⎢                  ⎥\n",
      "⎣       1.0        ⎦\n",
      "⎡200.0⎤\n",
      "⎢     ⎥\n",
      "⎢  0  ⎥\n",
      "⎢     ⎥\n",
      "⎢40.0 ⎥\n",
      "⎢     ⎥\n",
      "⎣ 1.0 ⎦\n"
     ]
    },
    {
     "data": {
      "text/latex": [
       "$\\displaystyle \\left[\\begin{matrix}200\\\\0\\\\40\\\\1\\end{matrix}\\right]$"
      ],
      "text/plain": [
       "Matrix([\n",
       "[200],\n",
       "[  0],\n",
       "[ 40],\n",
       "[  1]])"
      ]
     },
     "execution_count": 36,
     "metadata": {},
     "output_type": "execute_result"
    }
   ],
   "source": [
    "\n",
    "# TestBraccioForward(0,90,180,90,0)\n"
   ]
  },
  {
   "cell_type": "markdown",
   "id": "615ff3d0-2e9a-496c-ba9f-054d68d32764",
   "metadata": {},
   "source": [
    "# s.close()"
   ]
  },
  {
   "cell_type": "code",
   "execution_count": null,
   "id": "2212b376-63c9-47e3-87e9-88e906b9d46f",
   "metadata": {},
   "outputs": [],
   "source": []
  }
 ],
 "metadata": {
  "kernelspec": {
   "display_name": ".venv",
   "language": "python",
   "name": "python3"
  },
  "language_info": {
   "codemirror_mode": {
    "name": "ipython",
    "version": 3
   },
   "file_extension": ".py",
   "mimetype": "text/x-python",
   "name": "python",
   "nbconvert_exporter": "python",
   "pygments_lexer": "ipython3",
   "version": "3.13.3"
  }
 },
 "nbformat": 4,
 "nbformat_minor": 5
}
