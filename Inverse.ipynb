{
 "cells": [
  {
   "cell_type": "code",
   "execution_count": 3,
   "id": "5b93e72d",
   "metadata": {},
   "outputs": [
    {
     "name": "stdout",
     "output_type": "stream",
     "text": [
      "\n",
      "0: 480x640 1 clock, 65.8ms\n",
      "Speed: 2.1ms preprocess, 65.8ms inference, 1.0ms postprocess per image at shape (1, 3, 480, 640)\n",
      "积木中心像素坐标: (493, 260)\n",
      "积木中心世界坐标: (6.89296875, 0.8333333333333333)\n"
     ]
    }
   ],
   "source": [
    "from positionCalc import PositionCalculator\n",
    "\n",
    "pc = PositionCalculator()\n",
    "center = pc.get_one_center()\n",
    "print(\"积木中心像素坐标:\", center)\n",
    "wx, wy = pc.pixel_to_world(*center)\n",
    "print(\"积木中心世界坐标:\", (wx, wy))"
   ]
  },
  {
   "cell_type": "code",
   "execution_count": null,
   "id": "1b15b30c",
   "metadata": {},
   "outputs": [
    {
     "name": "stdout",
     "output_type": "stream",
     "text": [
      "Requirement already satisfied: sympy in ./.venv/lib/python3.13/site-packages (1.14.0)\n",
      "Requirement already satisfied: mpmath<1.4,>=1.1.0 in ./.venv/lib/python3.13/site-packages (from sympy) (1.3.0)\n",
      "Note: you may need to restart the kernel to use updated packages.\n"
     ]
    }
   ],
   "source": [
    "%pip install sympy"
   ]
  },
  {
   "cell_type": "code",
   "execution_count": null,
   "id": "93fb97d9",
   "metadata": {},
   "outputs": [],
   "source": [
    "from sympy import pi, ln, sqrt, cos, sin, acos, atan2, atan"
   ]
  },
  {
   "cell_type": "code",
   "execution_count": 4,
   "id": "b5d232a0",
   "metadata": {},
   "outputs": [],
   "source": [
    "a1 = 0\n",
    "a2 = 120\n",
    "a3 = 120\n",
    "a4 = 80\n",
    "a5 = 0\n",
    "d1 = 70\n",
    "d2 = 0\n",
    "d3 = 0\n",
    "d4 = 0\n",
    "d5 = 150\n",
    "\n",
    "w1 = wx*10\n",
    "w2 = wy*10\n",
    "w3 = 10\n",
    "w4 = 0\n",
    "w5 = 0\n",
    "w6 = -1"
   ]
  },
  {
   "cell_type": "markdown",
   "id": "03c207fe",
   "metadata": {},
   "source": [
    "#### Calculate q1"
   ]
  },
  {
   "cell_type": "code",
   "execution_count": null,
   "id": "c2b45a01",
   "metadata": {},
   "outputs": [],
   "source": [
    "def calculate_q1():\n",
    "    q1 = atan2(w2, w1)\n",
    "    return q1"
   ]
  },
  {
   "cell_type": "markdown",
   "id": "40f52239",
   "metadata": {},
   "source": [
    "#### Calculate elbow joint angles q3"
   ]
  },
  {
   "cell_type": "code",
   "execution_count": null,
   "id": "4703915b",
   "metadata": {},
   "outputs": [],
   "source": [
    "def calculate_q3(q1):\n",
    "    q_234 = atan2(-w4*cos(q1) - w5*sin(q1), -w6)\n",
    "    b1 = w1*cos(q1) + w2*sin(q1)-a4*cos(q_234)+d5*sin(q_234)\n",
    "    b2 = d1 - a4 * sin(q_234) - d5 * cos(q_234) - w3\n",
    "    b = sqrt(b1**2 + b2**2)\n",
    "    q3 = -acos((b**2 - a2**2 - a3**2) / (2 * a2 * a3))\n",
    "    \n",
    "    return q_234, q3, b1, b2"
   ]
  },
  {
   "cell_type": "markdown",
   "id": "3e5d26c5",
   "metadata": {},
   "source": [
    "#### Calculate q2"
   ]
  },
  {
   "cell_type": "code",
   "execution_count": null,
   "id": "2e197c88",
   "metadata": {},
   "outputs": [],
   "source": [
    "def calculate_q2(q3, b1, b2):\n",
    "    q2 = atan2((a2 + a3 * cos(q3)) * b2 - a3*b1*sin(q3), (a2+a3*cos(q3))*b1+a3*b2*sin(q3))\n",
    "    return q2"
   ]
  },
  {
   "cell_type": "markdown",
   "id": "e5c917f5",
   "metadata": {},
   "source": [
    "#### Calculate q4"
   ]
  },
  {
   "cell_type": "code",
   "execution_count": null,
   "id": "edd5d7ab",
   "metadata": {},
   "outputs": [],
   "source": [
    "def calculate_q4(q_234, q2, q3):\n",
    "    q4 = q_234 - q2 - q3\n",
    "    return q4"
   ]
  },
  {
   "cell_type": "code",
   "execution_count": null,
   "id": "d100f918",
   "metadata": {},
   "outputs": [],
   "source": [
    "def calculate_q5():\n",
    "    q5 = pi * ln(sqrt(w4**2 + w5**2 + w6**2))\n",
    "    return q5"
   ]
  },
  {
   "cell_type": "code",
   "execution_count": null,
   "id": "938d8f3d",
   "metadata": {},
   "outputs": [],
   "source": [
    "def braccio_inverse():\n",
    "    q1 = calculate_q1()\n",
    "    q_234, q3, b1, b2 = calculate_q3(q1)\n",
    "    q2 = calculate_q2(q3, b1, b2)\n",
    "    q4 = calculate_q4(q_234, q2, q3)\n",
    "    q5 = calculate_q5()\n",
    "    \n",
    "    q2 += pi/2\n",
    "    q3 += 3*pi/2\n",
    "    \n",
    "    q1 = q1 / pi * 180\n",
    "    q2 = q2 / pi * 180\n",
    "    q3 = q3 / pi * 180\n",
    "    q4 = q4 / pi * 180\n",
    "    q5 = q5 / pi * 180\n",
    "\n",
    "    return [q1, q2, q3, q4, q5]"
   ]
  },
  {
   "cell_type": "code",
   "execution_count": null,
   "id": "7c25b7d7",
   "metadata": {},
   "outputs": [
    {
     "name": "stdout",
     "output_type": "stream",
     "text": [
      "[141.371669411541/pi, 180*(-3.16728389101056e-8 + pi/2)/pi, 180*(-1.57104798079508 + 3*pi/2)/pi, 282.788642244226/pi, 0]\n"
     ]
    }
   ],
   "source": [
    "q = braccio_inverse()\n",
    "print(q)"
   ]
  }
 ],
 "metadata": {
  "kernelspec": {
   "display_name": ".venv",
   "language": "python",
   "name": "python3"
  },
  "language_info": {
   "codemirror_mode": {
    "name": "ipython",
    "version": 3
   },
   "file_extension": ".py",
   "mimetype": "text/x-python",
   "name": "python",
   "nbconvert_exporter": "python",
   "pygments_lexer": "ipython3",
   "version": "3.13.3"
  }
 },
 "nbformat": 4,
 "nbformat_minor": 5
}
